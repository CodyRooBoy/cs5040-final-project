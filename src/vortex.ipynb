{
 "cells": [
  {
   "cell_type": "code",
   "execution_count": null,
   "id": "6f457ff7",
   "metadata": {},
   "outputs": [
    {
     "data": {
      "application/vnd.jupyter.widget-view+json": {
       "model_id": "94853d03de674da9a987e6c42a77473c",
       "version_major": 2,
       "version_minor": 0
      },
      "text/plain": [
       "FloatSlider(value=0.0, description='Time (t):', max=6.283185307179586, step=0.01)"
      ]
     },
     "metadata": {},
     "output_type": "display_data"
    },
    {
     "data": {
      "application/vnd.jupyter.widget-view+json": {
       "model_id": "21f9abe4357043479486bffe07cf716b",
       "version_major": 2,
       "version_minor": 0
      },
      "text/plain": [
       "Output()"
      ]
     },
     "metadata": {},
     "output_type": "display_data"
    }
   ],
   "source": [
    "import numpy as np\n",
    "import matplotlib.pyplot as plt\n",
    "import ipywidgets as widgets\n",
    "from IPython.display import display\n",
    "from math import sin, cos\n",
    "\n",
    "class beads2d(object):\n",
    "    def __init__(self):\n",
    "        pass\n",
    "\n",
    "    def sample(self, x, y, t):\n",
    "        u = -2 * y + (2 * sin(t)) / 3\n",
    "        v = +2 * x - (2 * cos(t)) / 3\n",
    "        return u, v\n",
    "\n",
    "field = beads2d()\n",
    "\n",
    "xdim, ydim, tdim = 10, 10, 512\n",
    "x = np.linspace(-2, 2, xdim)\n",
    "y = np.linspace(-2, 2, ydim)\n",
    "X, Y = np.meshgrid(x, y, indexing='ij')\n",
    "\n",
    "t_values = np.linspace(0, 2 * np.pi, tdim)\n",
    "true_coreline = []\n",
    "for t in t_values:\n",
    "    U, V = field.sample(X, Y, t)\n",
    "    speed = np.sqrt(U**2 + V**2)\n",
    "    min_idx = np.argmin(speed)\n",
    "    i, j = np.unravel_index(min_idx, U.shape)\n",
    "    true_coreline.append([x[i], y[j], t])\n",
    "true_coreline = np.array(true_coreline)\n",
    "\n",
    "fixed_coreline = np.array([[0.0, 0.0, t] for t in t_values])\n",
    "\n",
    "fig, ax = plt.subplots()\n",
    "quiver = ax.quiver(X, Y, *field.sample(X, Y, 0.0))\n",
    "true_dot, = ax.plot([], [], 'bo', label='True Coreline')\n",
    "fixed_dot, = ax.plot([], [], 'go', label='Fixed Coreline')\n",
    "ax.set_xlim([-2, 2])\n",
    "ax.set_ylim([-2, 2])\n",
    "ax.set_title(\"Vortex Vector Field with Corelines\")\n",
    "ax.set_xlabel(\"x\")\n",
    "ax.set_ylabel(\"y\")\n",
    "ax.legend(loc='upper right')\n",
    "plt.close(fig)\n",
    "\n",
    "slider = widgets.FloatSlider(\n",
    "    value=0.0,\n",
    "    min=0.0,\n",
    "    max=2*np.pi,\n",
    "    step=0.01,\n",
    "    description='Time (t):',\n",
    "    continuous_update=True\n",
    ")\n",
    "\n",
    "def update(t):\n",
    "    U, V = field.sample(X, Y, t)\n",
    "    quiver.set_UVC(U, V)\n",
    "\n",
    "    idx = np.searchsorted(t_values, t)\n",
    "    if idx >= len(t_values):\n",
    "        idx = len(t_values) - 1\n",
    "\n",
    "    true_dot.set_data([true_coreline[idx, 0]], [true_coreline[idx, 1]])\n",
    "    fixed_dot.set_data([fixed_coreline[idx, 0]], [fixed_coreline[idx, 1]])\n",
    "\n",
    "    fig.canvas.draw_idle()\n",
    "    display(fig)\n",
    "\n",
    "out = widgets.interactive_output(update, {'t': slider})\n",
    "display(slider, out)\n"
   ]
  }
 ],
 "metadata": {
  "kernelspec": {
   "display_name": "env",
   "language": "python",
   "name": "python3"
  },
  "language_info": {
   "codemirror_mode": {
    "name": "ipython",
    "version": 3
   },
   "file_extension": ".py",
   "mimetype": "text/x-python",
   "name": "python",
   "nbconvert_exporter": "python",
   "pygments_lexer": "ipython3",
   "version": "3.12.0"
  }
 },
 "nbformat": 4,
 "nbformat_minor": 5
}
